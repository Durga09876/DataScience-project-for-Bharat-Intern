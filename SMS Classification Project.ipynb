{
 "cells": [
  {
   "cell_type": "markdown",
   "id": "6b0dbda7-dae5-4dc1-9177-55e0143a3ad6",
   "metadata": {},
   "source": [
    "# SMS Classification project\n",
    "### Navie Bayes Algorithm"
   ]
  },
  {
   "cell_type": "code",
   "execution_count": 1,
   "id": "ab89f39f-faae-4fcf-8597-71ef0e12f6e5",
   "metadata": {},
   "outputs": [],
   "source": [
    "import pandas as pd\n",
    "import numpy as np\n",
    "import warnings\n",
    "warnings.simplefilter(\"ignore\")"
   ]
  },
  {
   "cell_type": "code",
   "execution_count": 2,
   "id": "8de56496-c660-48d8-9643-c3b43cbbecec",
   "metadata": {},
   "outputs": [
    {
     "data": {
      "text/html": [
       "<div>\n",
       "<style scoped>\n",
       "    .dataframe tbody tr th:only-of-type {\n",
       "        vertical-align: middle;\n",
       "    }\n",
       "\n",
       "    .dataframe tbody tr th {\n",
       "        vertical-align: top;\n",
       "    }\n",
       "\n",
       "    .dataframe thead th {\n",
       "        text-align: right;\n",
       "    }\n",
       "</style>\n",
       "<table border=\"1\" class=\"dataframe\">\n",
       "  <thead>\n",
       "    <tr style=\"text-align: right;\">\n",
       "      <th></th>\n",
       "      <th>label</th>\n",
       "      <th>message</th>\n",
       "    </tr>\n",
       "  </thead>\n",
       "  <tbody>\n",
       "    <tr>\n",
       "      <th>0</th>\n",
       "      <td>ham</td>\n",
       "      <td>Go until jurong point, crazy.. Available only ...</td>\n",
       "    </tr>\n",
       "    <tr>\n",
       "      <th>1</th>\n",
       "      <td>ham</td>\n",
       "      <td>Ok lar... Joking wif u oni...</td>\n",
       "    </tr>\n",
       "    <tr>\n",
       "      <th>2</th>\n",
       "      <td>spam</td>\n",
       "      <td>Free entry in 2 a wkly comp to win FA Cup fina...</td>\n",
       "    </tr>\n",
       "    <tr>\n",
       "      <th>3</th>\n",
       "      <td>ham</td>\n",
       "      <td>U dun say so early hor... U c already then say...</td>\n",
       "    </tr>\n",
       "    <tr>\n",
       "      <th>4</th>\n",
       "      <td>ham</td>\n",
       "      <td>Nah I don't think he goes to usf, he lives aro...</td>\n",
       "    </tr>\n",
       "    <tr>\n",
       "      <th>...</th>\n",
       "      <td>...</td>\n",
       "      <td>...</td>\n",
       "    </tr>\n",
       "    <tr>\n",
       "      <th>5567</th>\n",
       "      <td>spam</td>\n",
       "      <td>This is the 2nd time we have tried 2 contact u...</td>\n",
       "    </tr>\n",
       "    <tr>\n",
       "      <th>5568</th>\n",
       "      <td>ham</td>\n",
       "      <td>Will ü b going to esplanade fr home?</td>\n",
       "    </tr>\n",
       "    <tr>\n",
       "      <th>5569</th>\n",
       "      <td>ham</td>\n",
       "      <td>Pity, * was in mood for that. So...any other s...</td>\n",
       "    </tr>\n",
       "    <tr>\n",
       "      <th>5570</th>\n",
       "      <td>ham</td>\n",
       "      <td>The guy did some bitching but I acted like i'd...</td>\n",
       "    </tr>\n",
       "    <tr>\n",
       "      <th>5571</th>\n",
       "      <td>ham</td>\n",
       "      <td>Rofl. Its true to its name</td>\n",
       "    </tr>\n",
       "  </tbody>\n",
       "</table>\n",
       "<p>5572 rows × 2 columns</p>\n",
       "</div>"
      ],
      "text/plain": [
       "     label                                            message\n",
       "0      ham  Go until jurong point, crazy.. Available only ...\n",
       "1      ham                      Ok lar... Joking wif u oni...\n",
       "2     spam  Free entry in 2 a wkly comp to win FA Cup fina...\n",
       "3      ham  U dun say so early hor... U c already then say...\n",
       "4      ham  Nah I don't think he goes to usf, he lives aro...\n",
       "...    ...                                                ...\n",
       "5567  spam  This is the 2nd time we have tried 2 contact u...\n",
       "5568   ham               Will ü b going to esplanade fr home?\n",
       "5569   ham  Pity, * was in mood for that. So...any other s...\n",
       "5570   ham  The guy did some bitching but I acted like i'd...\n",
       "5571   ham                         Rofl. Its true to its name\n",
       "\n",
       "[5572 rows x 2 columns]"
      ]
     },
     "execution_count": 2,
     "metadata": {},
     "output_type": "execute_result"
    }
   ],
   "source": [
    "df=pd.read_csv(\"D:\\Data science\\DATA SETS\\Datasets by srk sir\\\\SMSSpamCollection\",sep=\"\\t\",names=[\"label\",\"message\"])\n",
    "df"
   ]
  },
  {
   "cell_type": "code",
   "execution_count": 3,
   "id": "4c209140-2f73-4209-af4b-4b100cb0c5c1",
   "metadata": {},
   "outputs": [
    {
     "name": "stdout",
     "output_type": "stream",
     "text": [
      "<class 'pandas.core.frame.DataFrame'>\n",
      "RangeIndex: 5572 entries, 0 to 5571\n",
      "Data columns (total 2 columns):\n",
      " #   Column   Non-Null Count  Dtype \n",
      "---  ------   --------------  ----- \n",
      " 0   label    5572 non-null   object\n",
      " 1   message  5572 non-null   object\n",
      "dtypes: object(2)\n",
      "memory usage: 87.2+ KB\n"
     ]
    }
   ],
   "source": [
    "df.info()"
   ]
  },
  {
   "cell_type": "markdown",
   "id": "7b88d0d6-6ca9-4954-8a15-c7bae2a22964",
   "metadata": {},
   "source": [
    "## Text Cleaning"
   ]
  },
  {
   "cell_type": "code",
   "execution_count": 4,
   "id": "5fba3619-8001-47b2-9976-dfb4f314dba7",
   "metadata": {},
   "outputs": [],
   "source": [
    "import nltk\n",
    "import re\n",
    "from nltk.corpus import stopwords\n",
    "from nltk.stem import PorterStemmer\n",
    "ps=PorterStemmer()\n",
    "\n",
    "corpus=[]\n",
    "for i in range(len(df)):\n",
    "    l=re.sub(\"[^a-zA-Z]\",\" \",df[\"message\"][i])\n",
    "    l=l.lower()\n",
    "    l=l.split()\n",
    "    l=[ps.stem(word) for word in l if word not in set(stopwords.words(\"english\"))]\n",
    "    l=\" \".join(l)\n",
    "    corpus.append(l)"
   ]
  },
  {
   "cell_type": "markdown",
   "id": "778c5e3c-9364-4cb2-a567-f11c26e20747",
   "metadata": {},
   "source": [
    "## Count vetorization"
   ]
  },
  {
   "cell_type": "code",
   "execution_count": 11,
   "id": "4da65cbe-dd41-4ebe-97ca-67a59dbf1244",
   "metadata": {},
   "outputs": [],
   "source": [
    "from sklearn.feature_extraction.text import CountVectorizer\n",
    "cv=CountVectorizer()\n",
    "X=cv.fit_transform(corpus).toarray()"
   ]
  },
  {
   "cell_type": "code",
   "execution_count": 15,
   "id": "84ac94f9-fd0b-4985-b0dc-f82e1ca97242",
   "metadata": {},
   "outputs": [],
   "source": [
    "y=pd.get_dummies(df[\"label\"],drop_first=True).astype(int)"
   ]
  },
  {
   "cell_type": "markdown",
   "id": "a7e054e0-6366-4679-9e66-b08446cc77f3",
   "metadata": {},
   "source": [
    "### Train Test Split"
   ]
  },
  {
   "cell_type": "code",
   "execution_count": 18,
   "id": "d84c1142-710e-49b8-abd1-39b500f7120c",
   "metadata": {},
   "outputs": [],
   "source": [
    "from sklearn.model_selection import train_test_split\n",
    "X_train,X_test,y_train,y_test=train_test_split(X,y,train_size=0.8,random_state=True)"
   ]
  },
  {
   "cell_type": "markdown",
   "id": "e0ed0a38-4065-4e17-8a92-0b784d0f307b",
   "metadata": {},
   "source": [
    "### Modelling"
   ]
  },
  {
   "cell_type": "code",
   "execution_count": 23,
   "id": "ec5c3388-3954-4bf5-8972-2c7de67dc74b",
   "metadata": {},
   "outputs": [
    {
     "name": "stdout",
     "output_type": "stream",
     "text": [
      "Train Accuracy: 0.9919228180390397\n",
      "Test Accuracy: 0.9820627802690582\n",
      "CV: 0.9748727937068743\n"
     ]
    }
   ],
   "source": [
    "from sklearn.naive_bayes import MultinomialNB\n",
    "model=MultinomialNB()\n",
    "model.fit(X_train,y_train)\n",
    "\n",
    "ypred_train=model.predict(X_train)\n",
    "ypred_test=model.predict(X_test)\n",
    "\n",
    "from sklearn.metrics import accuracy_score\n",
    "print(\"Train Accuracy:\",accuracy_score(y_train,ypred_train))\n",
    "print(\"Test Accuracy:\",accuracy_score(y_test,ypred_test))\n",
    "\n",
    "from sklearn.model_selection import cross_val_score\n",
    "print(\"CV:\",(cross_val_score(model,X_train,y_train,cv=5).mean()))"
   ]
  },
  {
   "cell_type": "markdown",
   "id": "b05fd2f3-2418-4b98-a5db-da759ecf2223",
   "metadata": {},
   "source": [
    "## Prediction on New Data"
   ]
  },
  {
   "cell_type": "code",
   "execution_count": 35,
   "id": "cb93cf01-afdb-4243-b89b-6fa889b39273",
   "metadata": {},
   "outputs": [],
   "source": [
    "new_mail=\"hii this is Nani\""
   ]
  },
  {
   "cell_type": "markdown",
   "id": "fb70a521-68b4-41e4-95ed-af63f2f1869e",
   "metadata": {},
   "source": [
    "## Load Data"
   ]
  },
  {
   "cell_type": "code",
   "execution_count": 36,
   "id": "914c1d2c-cff1-41eb-8327-689a54749157",
   "metadata": {},
   "outputs": [
    {
     "data": {
      "text/html": [
       "<div>\n",
       "<style scoped>\n",
       "    .dataframe tbody tr th:only-of-type {\n",
       "        vertical-align: middle;\n",
       "    }\n",
       "\n",
       "    .dataframe tbody tr th {\n",
       "        vertical-align: top;\n",
       "    }\n",
       "\n",
       "    .dataframe thead th {\n",
       "        text-align: right;\n",
       "    }\n",
       "</style>\n",
       "<table border=\"1\" class=\"dataframe\">\n",
       "  <thead>\n",
       "    <tr style=\"text-align: right;\">\n",
       "      <th></th>\n",
       "      <th>message</th>\n",
       "    </tr>\n",
       "  </thead>\n",
       "  <tbody>\n",
       "    <tr>\n",
       "      <th>0</th>\n",
       "      <td>hii this is Nani</td>\n",
       "    </tr>\n",
       "  </tbody>\n",
       "</table>\n",
       "</div>"
      ],
      "text/plain": [
       "            message\n",
       "0  hii this is Nani"
      ]
     },
     "execution_count": 36,
     "metadata": {},
     "output_type": "execute_result"
    }
   ],
   "source": [
    "df_test=pd.DataFrame({\"message\":new_mail},index=[0])\n",
    "df_test"
   ]
  },
  {
   "cell_type": "markdown",
   "id": "59875342-a291-4dc8-83f5-01b2f10ef9b8",
   "metadata": {},
   "source": [
    "## PreProcessing The Data"
   ]
  },
  {
   "cell_type": "code",
   "execution_count": 37,
   "id": "d8e302ec-08c1-43be-b6c6-075b82044c77",
   "metadata": {},
   "outputs": [],
   "source": [
    "corpuss=[]\n",
    "for j in range(len(df_test)):\n",
    "    rp=re.sub(\"[^a-zA-Z]\",\" \",df_test[\"message\"][j])\n",
    "    rp=rp.lower()\n",
    "    rp=rp.split()\n",
    "    rp=[ps.stem(words) for words in rp if words not in set(stopwords.words(\"english\"))]\n",
    "    rp=\" \".join(rp)\n",
    "    corpuss.append(rp)\n",
    "\n",
    "# Test vectorization\n",
    "Xp=cv.transform(corpus).toarray()"
   ]
  },
  {
   "cell_type": "markdown",
   "id": "39263262-5f6e-414a-8300-7ed5489779c8",
   "metadata": {},
   "source": [
    "## Predection"
   ]
  },
  {
   "cell_type": "code",
   "execution_count": 41,
   "id": "8d33af10-d4ab-482d-8a65-f79f234f0516",
   "metadata": {},
   "outputs": [
    {
     "name": "stdout",
     "output_type": "stream",
     "text": [
      "Ham\n"
     ]
    }
   ],
   "source": [
    "pred= model.predict(Xp)\n",
    "\n",
    "if np.all(pred)==0:\n",
    "    print(\"Ham\")\n",
    "else:\n",
    "    print(\"Spam\")"
   ]
  },
  {
   "cell_type": "code",
   "execution_count": null,
   "id": "4561e8d9-3879-403b-987d-ddb37baa1cc5",
   "metadata": {},
   "outputs": [],
   "source": []
  }
 ],
 "metadata": {
  "kernelspec": {
   "display_name": "Python 3 (ipykernel)",
   "language": "python",
   "name": "python3"
  },
  "language_info": {
   "codemirror_mode": {
    "name": "ipython",
    "version": 3
   },
   "file_extension": ".py",
   "mimetype": "text/x-python",
   "name": "python",
   "nbconvert_exporter": "python",
   "pygments_lexer": "ipython3",
   "version": "3.11.7"
  }
 },
 "nbformat": 4,
 "nbformat_minor": 5
}
